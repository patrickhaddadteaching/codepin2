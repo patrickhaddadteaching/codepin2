{
  "nbformat": 4,
  "nbformat_minor": 0,
  "metadata": {
    "colab": {
      "name": "codepin2_binder.ipynb",
      "provenance": []
    },
    "kernelspec": {
      "name": "python3",
      "display_name": "Python 3"
    },
    "language_info": {
      "name": "python"
    }
  },
  "cells": [
    {
      "cell_type": "code",
      "source": [
        "from os import system\n",
        "try:\n",
        "    import google.colab\n",
        "    IN_COLAB = True\n",
        "except:\n",
        "    IN_COLAB = False    \n",
        "if IN_COLAB:\n",
        "    print('NOTEBOOK RUNNING ON COLAB')\n",
        "    system('wget https://github.com/patrickhaddadteaching/codepin2/raw/main/exopin2_src.py')"
      ],
      "metadata": {
        "id": "PfWnvryc6b0r"
      },
      "execution_count": null,
      "outputs": []
    },
    {
      "cell_type": "code",
      "source": [
        "from exopin2_src import *\n",
        "display(v_box_top)"
      ],
      "metadata": {
        "id": "2f9o0zFG6dKj"
      },
      "execution_count": null,
      "outputs": []
    }
  ]
}