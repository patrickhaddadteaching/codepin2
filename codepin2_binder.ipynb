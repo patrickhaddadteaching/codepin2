{
  "nbformat": 4,
  "nbformat_minor": 0,
  "metadata": {
    "colab": {
      "name": "codepin2_binder.ipynb",
      "provenance": []
    },
    "kernelspec": {
      "name": "python3",
      "display_name": "Python 3"
    },
    "language_info": {
      "name": "python"
    }
  },
  "cells": [
    {
      "cell_type": "code",
      "source": [
        "from os import system\n",
        "try:\n",
        "    import google.colab\n",
        "    IN_COLAB = True\n",
        "except:\n",
        "    IN_COLAB = False    \n",
        "if IN_COLAB:\n",
        "    print('NOTEBOOK RUNNING ON COLAB')\n",
        "    system('wget https://github.com/patrickhaddadteaching/codepin2/raw/main/exopin2_src.py')"
      ],
      "metadata": {
        "id": "57HFtvVY6Htk",
        "outputId": "501a98c9-91d8-404c-9d78-a965a621d382",
        "colab": {
          "base_uri": "https://localhost:8080/"
        }
      },
      "execution_count": 3,
      "outputs": [
        {
          "output_type": "stream",
          "name": "stdout",
          "text": [
            "NOTEBOOK RUNNING ON COLAB\n"
          ]
        }
      ]
    },
    {
      "cell_type": "code",
      "source": [
        "from exopin2_src import *\n",
        "display(v_box_top)"
      ],
      "metadata": {
        "id": "Mg8DjHiv6JFX"
      },
      "execution_count": null,
      "outputs": []
    }
  ]
}